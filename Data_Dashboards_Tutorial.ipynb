{
 "cells": [
  {
   "cell_type": "markdown",
   "id": "c3073786",
   "metadata": {},
   "source": [
    "# Interactive Data Dashboards Tutorial👨🏼‍🏫"
   ]
  },
  {
   "cell_type": "markdown",
   "id": "34a6cebf",
   "metadata": {},
   "source": [
    "The goal of this repository is to explain how ipywidgets widgets can be linked to matplotlib charts to make them interactive. When doing exploratory data analysis, its quite common to explore data from various perspectives to understand it better. The [data](https://data.gov.ro/dataset/date-climatologice-de-la-cele-23-de-statii-esentiale-pentru-anul-2016) used in this tutorial were obtain from kaggle dataset."
   ]
  },
  {
   "cell_type": "markdown",
   "id": "001eeb24",
   "metadata": {},
   "source": [
    "✏️**About Dataset.**"
   ]
  },
  {
   "cell_type": "markdown",
   "id": "2aa915cc",
   "metadata": {},
   "source": [
    "The insurance.csv file includes 1,338 examples of beneficiaries currently enrolled in the insurance plan, with features indicating characteristics of the patient as well as the total medical expenses charged to the plan for the calendar year. The features are:\n",
    "\n",
    "- age: This is an integer indicating the age of the primary beneficiary (excluding those above 64 years, since they are generally covered by the government).\n",
    "- sex: This is the policy holder's gender, either male or female.\n",
    "- bmi: This is the body mass index (BMI), which provides a sense of how over or under-weight a person is relative to their height. BMI is equal to weight (in kilograms) divided by height (in meters) squared. An ideal BMI is within the range of 18.5 to 24.9.\n",
    "- children: This is an integer indicating the number of children / dependents covered by the insurance plan.\n",
    "- smoker: This is yes or no depending on whether the insured regularly smokes tobacco.\n",
    "- region: This is the beneficiary's place of residence in the U.S., divided into four geographic regions: northeast, southeast, southwest, or northwest.\n",
    "- charges: Individual medical costs billed by health insurance \n",
    "\n",
    "We will investigate these variables combining matplotlib charts with ipywidgets widgets to generate interactive charts that update whenever the widget values change."
   ]
  },
  {
   "cell_type": "markdown",
   "id": "79b17142",
   "metadata": {},
   "source": [
    "✏️**Import the libraries.**"
   ]
  },
  {
   "cell_type": "code",
   "execution_count": 123,
   "id": "f92e9bed",
   "metadata": {},
   "outputs": [],
   "source": [
    "import numpy as np # linear algebra\n",
    "import pandas as pd # data manipulation and analysis\n",
    "import matplotlib.pyplot as plt # data visualization\n",
    "import seaborn as sns # data visualization\n",
    "sns.set_style('whitegrid') # set style for visualization\n",
    "from ipywidgets import*#provides a list of widgets quite common in web apps and dashboards\n",
    "import warnings\n",
    "warnings.filterwarnings('ignore')#disable the display of all warning messages"
   ]
  },
  {
   "cell_type": "markdown",
   "id": "0789f1b1",
   "metadata": {},
   "source": [
    "✏️**Reading data**"
   ]
  },
  {
   "cell_type": "code",
   "execution_count": 124,
   "id": "2d8636fd",
   "metadata": {},
   "outputs": [],
   "source": [
    "db=pd.read_csv('insurance.csv')"
   ]
  },
  {
   "cell_type": "code",
   "execution_count": 125,
   "id": "b2c97922",
   "metadata": {},
   "outputs": [
    {
     "data": {
      "text/html": [
       "<div>\n",
       "<style scoped>\n",
       "    .dataframe tbody tr th:only-of-type {\n",
       "        vertical-align: middle;\n",
       "    }\n",
       "\n",
       "    .dataframe tbody tr th {\n",
       "        vertical-align: top;\n",
       "    }\n",
       "\n",
       "    .dataframe thead th {\n",
       "        text-align: right;\n",
       "    }\n",
       "</style>\n",
       "<table border=\"1\" class=\"dataframe\">\n",
       "  <thead>\n",
       "    <tr style=\"text-align: right;\">\n",
       "      <th></th>\n",
       "      <th>age</th>\n",
       "      <th>sex</th>\n",
       "      <th>bmi</th>\n",
       "      <th>children</th>\n",
       "      <th>smoker</th>\n",
       "      <th>region</th>\n",
       "      <th>charges</th>\n",
       "    </tr>\n",
       "  </thead>\n",
       "  <tbody>\n",
       "    <tr>\n",
       "      <th>0</th>\n",
       "      <td>19</td>\n",
       "      <td>female</td>\n",
       "      <td>27.900</td>\n",
       "      <td>0</td>\n",
       "      <td>yes</td>\n",
       "      <td>southwest</td>\n",
       "      <td>16884.92400</td>\n",
       "    </tr>\n",
       "    <tr>\n",
       "      <th>1</th>\n",
       "      <td>18</td>\n",
       "      <td>male</td>\n",
       "      <td>33.770</td>\n",
       "      <td>1</td>\n",
       "      <td>no</td>\n",
       "      <td>southeast</td>\n",
       "      <td>1725.55230</td>\n",
       "    </tr>\n",
       "    <tr>\n",
       "      <th>2</th>\n",
       "      <td>28</td>\n",
       "      <td>male</td>\n",
       "      <td>33.000</td>\n",
       "      <td>3</td>\n",
       "      <td>no</td>\n",
       "      <td>southeast</td>\n",
       "      <td>4449.46200</td>\n",
       "    </tr>\n",
       "    <tr>\n",
       "      <th>3</th>\n",
       "      <td>33</td>\n",
       "      <td>male</td>\n",
       "      <td>22.705</td>\n",
       "      <td>0</td>\n",
       "      <td>no</td>\n",
       "      <td>northwest</td>\n",
       "      <td>21984.47061</td>\n",
       "    </tr>\n",
       "    <tr>\n",
       "      <th>4</th>\n",
       "      <td>32</td>\n",
       "      <td>male</td>\n",
       "      <td>28.880</td>\n",
       "      <td>0</td>\n",
       "      <td>no</td>\n",
       "      <td>northwest</td>\n",
       "      <td>3866.85520</td>\n",
       "    </tr>\n",
       "    <tr>\n",
       "      <th>...</th>\n",
       "      <td>...</td>\n",
       "      <td>...</td>\n",
       "      <td>...</td>\n",
       "      <td>...</td>\n",
       "      <td>...</td>\n",
       "      <td>...</td>\n",
       "      <td>...</td>\n",
       "    </tr>\n",
       "    <tr>\n",
       "      <th>1333</th>\n",
       "      <td>50</td>\n",
       "      <td>male</td>\n",
       "      <td>30.970</td>\n",
       "      <td>3</td>\n",
       "      <td>no</td>\n",
       "      <td>northwest</td>\n",
       "      <td>10600.54830</td>\n",
       "    </tr>\n",
       "    <tr>\n",
       "      <th>1334</th>\n",
       "      <td>18</td>\n",
       "      <td>female</td>\n",
       "      <td>31.920</td>\n",
       "      <td>0</td>\n",
       "      <td>no</td>\n",
       "      <td>northeast</td>\n",
       "      <td>2205.98080</td>\n",
       "    </tr>\n",
       "    <tr>\n",
       "      <th>1335</th>\n",
       "      <td>18</td>\n",
       "      <td>female</td>\n",
       "      <td>36.850</td>\n",
       "      <td>0</td>\n",
       "      <td>no</td>\n",
       "      <td>southeast</td>\n",
       "      <td>1629.83350</td>\n",
       "    </tr>\n",
       "    <tr>\n",
       "      <th>1336</th>\n",
       "      <td>21</td>\n",
       "      <td>female</td>\n",
       "      <td>25.800</td>\n",
       "      <td>0</td>\n",
       "      <td>no</td>\n",
       "      <td>southwest</td>\n",
       "      <td>2007.94500</td>\n",
       "    </tr>\n",
       "    <tr>\n",
       "      <th>1337</th>\n",
       "      <td>61</td>\n",
       "      <td>female</td>\n",
       "      <td>29.070</td>\n",
       "      <td>0</td>\n",
       "      <td>yes</td>\n",
       "      <td>northwest</td>\n",
       "      <td>29141.36030</td>\n",
       "    </tr>\n",
       "  </tbody>\n",
       "</table>\n",
       "<p>1338 rows × 7 columns</p>\n",
       "</div>"
      ],
      "text/plain": [
       "      age     sex     bmi  children smoker     region      charges\n",
       "0      19  female  27.900         0    yes  southwest  16884.92400\n",
       "1      18    male  33.770         1     no  southeast   1725.55230\n",
       "2      28    male  33.000         3     no  southeast   4449.46200\n",
       "3      33    male  22.705         0     no  northwest  21984.47061\n",
       "4      32    male  28.880         0     no  northwest   3866.85520\n",
       "...   ...     ...     ...       ...    ...        ...          ...\n",
       "1333   50    male  30.970         3     no  northwest  10600.54830\n",
       "1334   18  female  31.920         0     no  northeast   2205.98080\n",
       "1335   18  female  36.850         0     no  southeast   1629.83350\n",
       "1336   21  female  25.800         0     no  southwest   2007.94500\n",
       "1337   61  female  29.070         0    yes  northwest  29141.36030\n",
       "\n",
       "[1338 rows x 7 columns]"
      ]
     },
     "execution_count": 125,
     "metadata": {},
     "output_type": "execute_result"
    }
   ],
   "source": [
    "db"
   ]
  },
  {
   "cell_type": "code",
   "execution_count": 126,
   "id": "9cb0d2fb",
   "metadata": {},
   "outputs": [
    {
     "name": "stdout",
     "output_type": "stream",
     "text": [
      "The size of the table: (1338, 7)\n",
      "The total number of cells in the table: 9366\n"
     ]
    }
   ],
   "source": [
    "print('The size of the table:',db.shape)\n",
    "print('The total number of cells in the table:',db.size)"
   ]
  },
  {
   "cell_type": "markdown",
   "id": "9a6d4051",
   "metadata": {},
   "source": [
    "✏️**Cleaning Data.**"
   ]
  },
  {
   "cell_type": "code",
   "execution_count": 127,
   "id": "eaebfa32",
   "metadata": {},
   "outputs": [
    {
     "name": "stdout",
     "output_type": "stream",
     "text": [
      "<class 'pandas.core.frame.DataFrame'>\n",
      "RangeIndex: 1338 entries, 0 to 1337\n",
      "Data columns (total 7 columns):\n",
      " #   Column    Non-Null Count  Dtype  \n",
      "---  ------    --------------  -----  \n",
      " 0   age       1338 non-null   int64  \n",
      " 1   sex       1338 non-null   object \n",
      " 2   bmi       1338 non-null   float64\n",
      " 3   children  1338 non-null   int64  \n",
      " 4   smoker    1338 non-null   object \n",
      " 5   region    1338 non-null   object \n",
      " 6   charges   1338 non-null   float64\n",
      "dtypes: float64(2), int64(2), object(3)\n",
      "memory usage: 73.3+ KB\n"
     ]
    }
   ],
   "source": [
    "db.info()"
   ]
  },
  {
   "cell_type": "markdown",
   "id": "4bd66990",
   "metadata": {},
   "source": [
    "- We ensure that the data types for each column are correct.\n",
    "\n",
    "We notice that the numeric data uses the foat64 or int64 format. Keeping in mind that we do not have such high precision, we will change the data type to float32 format, respectively int32 format."
   ]
  },
  {
   "cell_type": "code",
   "execution_count": 128,
   "id": "966a9350",
   "metadata": {},
   "outputs": [
    {
     "name": "stdout",
     "output_type": "stream",
     "text": [
      "<class 'pandas.core.frame.DataFrame'>\n",
      "RangeIndex: 1338 entries, 0 to 1337\n",
      "Data columns (total 7 columns):\n",
      " #   Column    Non-Null Count  Dtype  \n",
      "---  ------    --------------  -----  \n",
      " 0   age       1338 non-null   int32  \n",
      " 1   sex       1338 non-null   object \n",
      " 2   bmi       1338 non-null   float32\n",
      " 3   children  1338 non-null   float32\n",
      " 4   smoker    1338 non-null   object \n",
      " 5   region    1338 non-null   object \n",
      " 6   charges   1338 non-null   float32\n",
      "dtypes: float32(3), int32(1), object(3)\n",
      "memory usage: 52.4+ KB\n"
     ]
    }
   ],
   "source": [
    "db=db.astype({'age': 'int32', 'bmi': 'float32', 'children': 'float32', 'charges': 'float32'})\n",
    "db.info()"
   ]
  },
  {
   "cell_type": "markdown",
   "id": "e1517e87",
   "metadata": {},
   "source": [
    "- Strip leading and trailing spaces for string data."
   ]
  },
  {
   "cell_type": "code",
   "execution_count": 129,
   "id": "6ad8964b",
   "metadata": {},
   "outputs": [],
   "source": [
    "db['sex'] = db['sex'].str.strip()\n",
    "db['smoker'] = db['smoker'].str.strip()\n",
    "db['region'] = db['region'].str.strip()"
   ]
  },
  {
   "cell_type": "markdown",
   "id": "1f874518",
   "metadata": {},
   "source": [
    "- Lets check unique values in nominal data columns. We should see clear categories."
   ]
  },
  {
   "cell_type": "code",
   "execution_count": 130,
   "id": "25a7b237",
   "metadata": {},
   "outputs": [
    {
     "data": {
      "text/plain": [
       "array(['female', 'male'], dtype=object)"
      ]
     },
     "execution_count": 130,
     "metadata": {},
     "output_type": "execute_result"
    }
   ],
   "source": [
    "db['sex'].unique()"
   ]
  },
  {
   "cell_type": "code",
   "execution_count": 131,
   "id": "461682b1",
   "metadata": {},
   "outputs": [
    {
     "data": {
      "text/plain": [
       "array(['yes', 'no'], dtype=object)"
      ]
     },
     "execution_count": 131,
     "metadata": {},
     "output_type": "execute_result"
    }
   ],
   "source": [
    "db['smoker'].unique()"
   ]
  },
  {
   "cell_type": "code",
   "execution_count": 132,
   "id": "ad0a850e",
   "metadata": {},
   "outputs": [
    {
     "data": {
      "text/plain": [
       "array(['southwest', 'southeast', 'northwest', 'northeast'], dtype=object)"
      ]
     },
     "execution_count": 132,
     "metadata": {},
     "output_type": "execute_result"
    }
   ],
   "source": [
    "db['region'].unique()"
   ]
  },
  {
   "cell_type": "markdown",
   "id": "0db16f2a",
   "metadata": {},
   "source": [
    "- Check for duplicates."
   ]
  },
  {
   "cell_type": "code",
   "execution_count": 133,
   "id": "41d33f45",
   "metadata": {},
   "outputs": [
    {
     "data": {
      "text/html": [
       "<div>\n",
       "<style scoped>\n",
       "    .dataframe tbody tr th:only-of-type {\n",
       "        vertical-align: middle;\n",
       "    }\n",
       "\n",
       "    .dataframe tbody tr th {\n",
       "        vertical-align: top;\n",
       "    }\n",
       "\n",
       "    .dataframe thead th {\n",
       "        text-align: right;\n",
       "    }\n",
       "</style>\n",
       "<table border=\"1\" class=\"dataframe\">\n",
       "  <thead>\n",
       "    <tr style=\"text-align: right;\">\n",
       "      <th></th>\n",
       "      <th>age</th>\n",
       "      <th>sex</th>\n",
       "      <th>bmi</th>\n",
       "      <th>children</th>\n",
       "      <th>smoker</th>\n",
       "      <th>region</th>\n",
       "      <th>charges</th>\n",
       "    </tr>\n",
       "  </thead>\n",
       "  <tbody>\n",
       "    <tr>\n",
       "      <th>195</th>\n",
       "      <td>19</td>\n",
       "      <td>male</td>\n",
       "      <td>30.59</td>\n",
       "      <td>0.0</td>\n",
       "      <td>no</td>\n",
       "      <td>northwest</td>\n",
       "      <td>1639.56311</td>\n",
       "    </tr>\n",
       "    <tr>\n",
       "      <th>581</th>\n",
       "      <td>19</td>\n",
       "      <td>male</td>\n",
       "      <td>30.59</td>\n",
       "      <td>0.0</td>\n",
       "      <td>no</td>\n",
       "      <td>northwest</td>\n",
       "      <td>1639.56311</td>\n",
       "    </tr>\n",
       "  </tbody>\n",
       "</table>\n",
       "</div>"
      ],
      "text/plain": [
       "     age   sex    bmi  children smoker     region     charges\n",
       "195   19  male  30.59       0.0     no  northwest  1639.56311\n",
       "581   19  male  30.59       0.0     no  northwest  1639.56311"
      ]
     },
     "execution_count": 133,
     "metadata": {},
     "output_type": "execute_result"
    }
   ],
   "source": [
    "db.loc[db.duplicated(keep=False), :]"
   ]
  },
  {
   "cell_type": "code",
   "execution_count": 134,
   "id": "b8c16455",
   "metadata": {},
   "outputs": [
    {
     "data": {
      "text/html": [
       "<div>\n",
       "<style scoped>\n",
       "    .dataframe tbody tr th:only-of-type {\n",
       "        vertical-align: middle;\n",
       "    }\n",
       "\n",
       "    .dataframe tbody tr th {\n",
       "        vertical-align: top;\n",
       "    }\n",
       "\n",
       "    .dataframe thead th {\n",
       "        text-align: right;\n",
       "    }\n",
       "</style>\n",
       "<table border=\"1\" class=\"dataframe\">\n",
       "  <thead>\n",
       "    <tr style=\"text-align: right;\">\n",
       "      <th></th>\n",
       "      <th>age</th>\n",
       "      <th>sex</th>\n",
       "      <th>bmi</th>\n",
       "      <th>children</th>\n",
       "      <th>smoker</th>\n",
       "      <th>region</th>\n",
       "      <th>charges</th>\n",
       "    </tr>\n",
       "  </thead>\n",
       "  <tbody>\n",
       "  </tbody>\n",
       "</table>\n",
       "</div>"
      ],
      "text/plain": [
       "Empty DataFrame\n",
       "Columns: [age, sex, bmi, children, smoker, region, charges]\n",
       "Index: []"
      ]
     },
     "execution_count": 134,
     "metadata": {},
     "output_type": "execute_result"
    }
   ],
   "source": [
    "db.drop_duplicates(inplace=True)#remove duplicates from original dataset\n",
    "db.loc[db.duplicated(keep=False), :]"
   ]
  },
  {
   "cell_type": "markdown",
   "id": "27cdc866",
   "metadata": {},
   "source": [
    "✏️**Statistical Aspects.**"
   ]
  },
  {
   "cell_type": "markdown",
   "id": "5abfd0e8",
   "metadata": {},
   "source": [
    "- A descriptive statistic of numerical data."
   ]
  },
  {
   "cell_type": "code",
   "execution_count": 135,
   "id": "f57f6d92",
   "metadata": {},
   "outputs": [
    {
     "data": {
      "text/html": [
       "<div>\n",
       "<style scoped>\n",
       "    .dataframe tbody tr th:only-of-type {\n",
       "        vertical-align: middle;\n",
       "    }\n",
       "\n",
       "    .dataframe tbody tr th {\n",
       "        vertical-align: top;\n",
       "    }\n",
       "\n",
       "    .dataframe thead th {\n",
       "        text-align: right;\n",
       "    }\n",
       "</style>\n",
       "<table border=\"1\" class=\"dataframe\">\n",
       "  <thead>\n",
       "    <tr style=\"text-align: right;\">\n",
       "      <th></th>\n",
       "      <th>age</th>\n",
       "      <th>bmi</th>\n",
       "      <th>children</th>\n",
       "      <th>charges</th>\n",
       "    </tr>\n",
       "  </thead>\n",
       "  <tbody>\n",
       "    <tr>\n",
       "      <th>count</th>\n",
       "      <td>1337.000000</td>\n",
       "      <td>1337.000000</td>\n",
       "      <td>1337.000000</td>\n",
       "      <td>1337.000000</td>\n",
       "    </tr>\n",
       "    <tr>\n",
       "      <th>mean</th>\n",
       "      <td>39.222139</td>\n",
       "      <td>30.663443</td>\n",
       "      <td>1.095737</td>\n",
       "      <td>13279.123047</td>\n",
       "    </tr>\n",
       "    <tr>\n",
       "      <th>std</th>\n",
       "      <td>14.044333</td>\n",
       "      <td>6.100469</td>\n",
       "      <td>1.205575</td>\n",
       "      <td>12110.362305</td>\n",
       "    </tr>\n",
       "    <tr>\n",
       "      <th>min</th>\n",
       "      <td>18.000000</td>\n",
       "      <td>15.960000</td>\n",
       "      <td>0.000000</td>\n",
       "      <td>1121.873901</td>\n",
       "    </tr>\n",
       "    <tr>\n",
       "      <th>25%</th>\n",
       "      <td>27.000000</td>\n",
       "      <td>26.290001</td>\n",
       "      <td>0.000000</td>\n",
       "      <td>4746.344238</td>\n",
       "    </tr>\n",
       "    <tr>\n",
       "      <th>50%</th>\n",
       "      <td>39.000000</td>\n",
       "      <td>30.400000</td>\n",
       "      <td>1.000000</td>\n",
       "      <td>9386.161133</td>\n",
       "    </tr>\n",
       "    <tr>\n",
       "      <th>75%</th>\n",
       "      <td>51.000000</td>\n",
       "      <td>34.700001</td>\n",
       "      <td>2.000000</td>\n",
       "      <td>16657.716797</td>\n",
       "    </tr>\n",
       "    <tr>\n",
       "      <th>max</th>\n",
       "      <td>64.000000</td>\n",
       "      <td>53.130001</td>\n",
       "      <td>5.000000</td>\n",
       "      <td>63770.429688</td>\n",
       "    </tr>\n",
       "  </tbody>\n",
       "</table>\n",
       "</div>"
      ],
      "text/plain": [
       "               age          bmi     children       charges\n",
       "count  1337.000000  1337.000000  1337.000000   1337.000000\n",
       "mean     39.222139    30.663443     1.095737  13279.123047\n",
       "std      14.044333     6.100469     1.205575  12110.362305\n",
       "min      18.000000    15.960000     0.000000   1121.873901\n",
       "25%      27.000000    26.290001     0.000000   4746.344238\n",
       "50%      39.000000    30.400000     1.000000   9386.161133\n",
       "75%      51.000000    34.700001     2.000000  16657.716797\n",
       "max      64.000000    53.130001     5.000000  63770.429688"
      ]
     },
     "execution_count": 135,
     "metadata": {},
     "output_type": "execute_result"
    }
   ],
   "source": [
    "db.describe()"
   ]
  },
  {
   "cell_type": "markdown",
   "id": "21b05178",
   "metadata": {},
   "source": [
    "- A descriptive statistics of the categorical data."
   ]
  },
  {
   "cell_type": "code",
   "execution_count": 136,
   "id": "cccbbb65",
   "metadata": {},
   "outputs": [
    {
     "data": {
      "text/html": [
       "<div>\n",
       "<style scoped>\n",
       "    .dataframe tbody tr th:only-of-type {\n",
       "        vertical-align: middle;\n",
       "    }\n",
       "\n",
       "    .dataframe tbody tr th {\n",
       "        vertical-align: top;\n",
       "    }\n",
       "\n",
       "    .dataframe thead th {\n",
       "        text-align: right;\n",
       "    }\n",
       "</style>\n",
       "<table border=\"1\" class=\"dataframe\">\n",
       "  <thead>\n",
       "    <tr style=\"text-align: right;\">\n",
       "      <th></th>\n",
       "      <th>sex</th>\n",
       "      <th>smoker</th>\n",
       "      <th>region</th>\n",
       "    </tr>\n",
       "  </thead>\n",
       "  <tbody>\n",
       "    <tr>\n",
       "      <th>count</th>\n",
       "      <td>1337</td>\n",
       "      <td>1337</td>\n",
       "      <td>1337</td>\n",
       "    </tr>\n",
       "    <tr>\n",
       "      <th>unique</th>\n",
       "      <td>2</td>\n",
       "      <td>2</td>\n",
       "      <td>4</td>\n",
       "    </tr>\n",
       "    <tr>\n",
       "      <th>top</th>\n",
       "      <td>male</td>\n",
       "      <td>no</td>\n",
       "      <td>southeast</td>\n",
       "    </tr>\n",
       "    <tr>\n",
       "      <th>freq</th>\n",
       "      <td>675</td>\n",
       "      <td>1063</td>\n",
       "      <td>364</td>\n",
       "    </tr>\n",
       "  </tbody>\n",
       "</table>\n",
       "</div>"
      ],
      "text/plain": [
       "         sex smoker     region\n",
       "count   1337   1337       1337\n",
       "unique     2      2          4\n",
       "top     male     no  southeast\n",
       "freq     675   1063        364"
      ]
     },
     "execution_count": 136,
     "metadata": {},
     "output_type": "execute_result"
    }
   ],
   "source": [
    "db.select_dtypes(include=['object']).describe()"
   ]
  },
  {
   "cell_type": "markdown",
   "id": "2248c866",
   "metadata": {},
   "source": [
    "- Minimum, maximum and mean charge by gender."
   ]
  },
  {
   "cell_type": "code",
   "execution_count": 137,
   "id": "ff62a771",
   "metadata": {},
   "outputs": [
    {
     "data": {
      "text/html": [
       "<div>\n",
       "<style scoped>\n",
       "    .dataframe tbody tr th:only-of-type {\n",
       "        vertical-align: middle;\n",
       "    }\n",
       "\n",
       "    .dataframe tbody tr th {\n",
       "        vertical-align: top;\n",
       "    }\n",
       "\n",
       "    .dataframe thead tr th {\n",
       "        text-align: left;\n",
       "    }\n",
       "\n",
       "    .dataframe thead tr:last-of-type th {\n",
       "        text-align: right;\n",
       "    }\n",
       "</style>\n",
       "<table border=\"1\" class=\"dataframe\">\n",
       "  <thead>\n",
       "    <tr>\n",
       "      <th></th>\n",
       "      <th>sex</th>\n",
       "      <th colspan=\"3\" halign=\"left\">charges</th>\n",
       "    </tr>\n",
       "    <tr>\n",
       "      <th></th>\n",
       "      <th>count</th>\n",
       "      <th>min</th>\n",
       "      <th>max</th>\n",
       "      <th>mean</th>\n",
       "    </tr>\n",
       "    <tr>\n",
       "      <th>sex</th>\n",
       "      <th></th>\n",
       "      <th></th>\n",
       "      <th></th>\n",
       "      <th></th>\n",
       "    </tr>\n",
       "  </thead>\n",
       "  <tbody>\n",
       "    <tr>\n",
       "      <th>female</th>\n",
       "      <td>662</td>\n",
       "      <td>1607.510132</td>\n",
       "      <td>63770.429688</td>\n",
       "      <td>12569.579102</td>\n",
       "    </tr>\n",
       "    <tr>\n",
       "      <th>male</th>\n",
       "      <td>675</td>\n",
       "      <td>1121.873901</td>\n",
       "      <td>62592.875000</td>\n",
       "      <td>13974.999023</td>\n",
       "    </tr>\n",
       "  </tbody>\n",
       "</table>\n",
       "</div>"
      ],
      "text/plain": [
       "         sex      charges                            \n",
       "       count          min           max          mean\n",
       "sex                                                  \n",
       "female   662  1607.510132  63770.429688  12569.579102\n",
       "male     675  1121.873901  62592.875000  13974.999023"
      ]
     },
     "execution_count": 137,
     "metadata": {},
     "output_type": "execute_result"
    }
   ],
   "source": [
    "data = db.groupby('sex').aggregate({'sex':'count','charges':['min','max','mean']})\n",
    "data"
   ]
  },
  {
   "cell_type": "markdown",
   "id": "ba8cec39",
   "metadata": {},
   "source": [
    "- Minimum, maximum and mean charge by smoking status."
   ]
  },
  {
   "cell_type": "code",
   "execution_count": 138,
   "id": "23f1826b",
   "metadata": {},
   "outputs": [
    {
     "data": {
      "text/html": [
       "<div>\n",
       "<style scoped>\n",
       "    .dataframe tbody tr th:only-of-type {\n",
       "        vertical-align: middle;\n",
       "    }\n",
       "\n",
       "    .dataframe tbody tr th {\n",
       "        vertical-align: top;\n",
       "    }\n",
       "\n",
       "    .dataframe thead tr th {\n",
       "        text-align: left;\n",
       "    }\n",
       "\n",
       "    .dataframe thead tr:last-of-type th {\n",
       "        text-align: right;\n",
       "    }\n",
       "</style>\n",
       "<table border=\"1\" class=\"dataframe\">\n",
       "  <thead>\n",
       "    <tr>\n",
       "      <th></th>\n",
       "      <th>smoker</th>\n",
       "      <th colspan=\"3\" halign=\"left\">charges</th>\n",
       "    </tr>\n",
       "    <tr>\n",
       "      <th></th>\n",
       "      <th>count</th>\n",
       "      <th>min</th>\n",
       "      <th>max</th>\n",
       "      <th>mean</th>\n",
       "    </tr>\n",
       "    <tr>\n",
       "      <th>smoker</th>\n",
       "      <th></th>\n",
       "      <th></th>\n",
       "      <th></th>\n",
       "      <th></th>\n",
       "    </tr>\n",
       "  </thead>\n",
       "  <tbody>\n",
       "    <tr>\n",
       "      <th>no</th>\n",
       "      <td>1063</td>\n",
       "      <td>1121.873901</td>\n",
       "      <td>36910.609375</td>\n",
       "      <td>8440.660156</td>\n",
       "    </tr>\n",
       "    <tr>\n",
       "      <th>yes</th>\n",
       "      <td>274</td>\n",
       "      <td>12829.455078</td>\n",
       "      <td>63770.429688</td>\n",
       "      <td>32050.232422</td>\n",
       "    </tr>\n",
       "  </tbody>\n",
       "</table>\n",
       "</div>"
      ],
      "text/plain": [
       "       smoker       charges                            \n",
       "        count           min           max          mean\n",
       "smoker                                                 \n",
       "no       1063   1121.873901  36910.609375   8440.660156\n",
       "yes       274  12829.455078  63770.429688  32050.232422"
      ]
     },
     "execution_count": 138,
     "metadata": {},
     "output_type": "execute_result"
    }
   ],
   "source": [
    "data = db.groupby('smoker').aggregate({'smoker':'count','charges':['min','max','mean']})\n",
    "data"
   ]
  },
  {
   "cell_type": "markdown",
   "id": "4f6d8141",
   "metadata": {},
   "source": [
    "- Minimum, maximum and mean charge by region."
   ]
  },
  {
   "cell_type": "code",
   "execution_count": 139,
   "id": "4924ba01",
   "metadata": {},
   "outputs": [
    {
     "data": {
      "text/html": [
       "<div>\n",
       "<style scoped>\n",
       "    .dataframe tbody tr th:only-of-type {\n",
       "        vertical-align: middle;\n",
       "    }\n",
       "\n",
       "    .dataframe tbody tr th {\n",
       "        vertical-align: top;\n",
       "    }\n",
       "\n",
       "    .dataframe thead tr th {\n",
       "        text-align: left;\n",
       "    }\n",
       "\n",
       "    .dataframe thead tr:last-of-type th {\n",
       "        text-align: right;\n",
       "    }\n",
       "</style>\n",
       "<table border=\"1\" class=\"dataframe\">\n",
       "  <thead>\n",
       "    <tr>\n",
       "      <th></th>\n",
       "      <th>region</th>\n",
       "      <th colspan=\"3\" halign=\"left\">charges</th>\n",
       "    </tr>\n",
       "    <tr>\n",
       "      <th></th>\n",
       "      <th>count</th>\n",
       "      <th>min</th>\n",
       "      <th>max</th>\n",
       "      <th>mean</th>\n",
       "    </tr>\n",
       "    <tr>\n",
       "      <th>region</th>\n",
       "      <th></th>\n",
       "      <th></th>\n",
       "      <th></th>\n",
       "      <th></th>\n",
       "    </tr>\n",
       "  </thead>\n",
       "  <tbody>\n",
       "    <tr>\n",
       "      <th>northeast</th>\n",
       "      <td>324</td>\n",
       "      <td>1694.796387</td>\n",
       "      <td>58571.074219</td>\n",
       "      <td>13406.384766</td>\n",
       "    </tr>\n",
       "    <tr>\n",
       "      <th>northwest</th>\n",
       "      <td>324</td>\n",
       "      <td>1621.340210</td>\n",
       "      <td>60021.398438</td>\n",
       "      <td>12450.840820</td>\n",
       "    </tr>\n",
       "    <tr>\n",
       "      <th>southeast</th>\n",
       "      <td>364</td>\n",
       "      <td>1121.873901</td>\n",
       "      <td>63770.429688</td>\n",
       "      <td>14735.411133</td>\n",
       "    </tr>\n",
       "    <tr>\n",
       "      <th>southwest</th>\n",
       "      <td>325</td>\n",
       "      <td>1241.564941</td>\n",
       "      <td>52590.828125</td>\n",
       "      <td>12346.937500</td>\n",
       "    </tr>\n",
       "  </tbody>\n",
       "</table>\n",
       "</div>"
      ],
      "text/plain": [
       "          region      charges                            \n",
       "           count          min           max          mean\n",
       "region                                                   \n",
       "northeast    324  1694.796387  58571.074219  13406.384766\n",
       "northwest    324  1621.340210  60021.398438  12450.840820\n",
       "southeast    364  1121.873901  63770.429688  14735.411133\n",
       "southwest    325  1241.564941  52590.828125  12346.937500"
      ]
     },
     "execution_count": 139,
     "metadata": {},
     "output_type": "execute_result"
    }
   ],
   "source": [
    "data = db.groupby('region').aggregate({'region':'count','charges':['min','max','mean']})\n",
    "data"
   ]
  },
  {
   "cell_type": "markdown",
   "id": "970d30fd",
   "metadata": {},
   "source": [
    "- Count smokers by region."
   ]
  },
  {
   "cell_type": "code",
   "execution_count": 140,
   "id": "942c4bf2",
   "metadata": {},
   "outputs": [
    {
     "data": {
      "text/html": [
       "<div>\n",
       "<style scoped>\n",
       "    .dataframe tbody tr th:only-of-type {\n",
       "        vertical-align: middle;\n",
       "    }\n",
       "\n",
       "    .dataframe tbody tr th {\n",
       "        vertical-align: top;\n",
       "    }\n",
       "\n",
       "    .dataframe thead th {\n",
       "        text-align: right;\n",
       "    }\n",
       "</style>\n",
       "<table border=\"1\" class=\"dataframe\">\n",
       "  <thead>\n",
       "    <tr style=\"text-align: right;\">\n",
       "      <th></th>\n",
       "      <th>smoker</th>\n",
       "    </tr>\n",
       "    <tr>\n",
       "      <th>region</th>\n",
       "      <th></th>\n",
       "    </tr>\n",
       "  </thead>\n",
       "  <tbody>\n",
       "    <tr>\n",
       "      <th>northeast</th>\n",
       "      <td>324</td>\n",
       "    </tr>\n",
       "    <tr>\n",
       "      <th>northwest</th>\n",
       "      <td>324</td>\n",
       "    </tr>\n",
       "    <tr>\n",
       "      <th>southeast</th>\n",
       "      <td>364</td>\n",
       "    </tr>\n",
       "    <tr>\n",
       "      <th>southwest</th>\n",
       "      <td>325</td>\n",
       "    </tr>\n",
       "  </tbody>\n",
       "</table>\n",
       "</div>"
      ],
      "text/plain": [
       "           smoker\n",
       "region           \n",
       "northeast     324\n",
       "northwest     324\n",
       "southeast     364\n",
       "southwest     325"
      ]
     },
     "execution_count": 140,
     "metadata": {},
     "output_type": "execute_result"
    }
   ],
   "source": [
    "data = db.groupby('region').aggregate({'smoker':'count'})\n",
    "data"
   ]
  },
  {
   "cell_type": "markdown",
   "id": "4a625dea",
   "metadata": {},
   "source": [
    "✏️**Data overview.**"
   ]
  },
  {
   "cell_type": "markdown",
   "id": "8a056003",
   "metadata": {},
   "source": [
    "- Data separation."
   ]
  },
  {
   "cell_type": "code",
   "execution_count": 141,
   "id": "43daed3f",
   "metadata": {},
   "outputs": [],
   "source": [
    "smoker_male=db[(db.sex == 'male')&(db.smoker == 'yes')].reset_index()#smoking men\n",
    "no_smoker_male=db[(db.sex == 'male')&(db.smoker == 'no')].reset_index()#non-smoking men\n",
    "smoker_female=db[(db.sex == 'female')&(db.smoker == 'yes')].reset_index()#smoking female\n",
    "no_smoker_female=db[(db.sex == 'female')&(db.smoker == 'no')].reset_index()#non-smoking female"
   ]
  },
  {
   "cell_type": "code",
   "execution_count": 142,
   "id": "3884f8c1",
   "metadata": {},
   "outputs": [
    {
     "data": {
      "text/html": [
       "<div>\n",
       "<style scoped>\n",
       "    .dataframe tbody tr th:only-of-type {\n",
       "        vertical-align: middle;\n",
       "    }\n",
       "\n",
       "    .dataframe tbody tr th {\n",
       "        vertical-align: top;\n",
       "    }\n",
       "\n",
       "    .dataframe thead th {\n",
       "        text-align: right;\n",
       "    }\n",
       "</style>\n",
       "<table border=\"1\" class=\"dataframe\">\n",
       "  <thead>\n",
       "    <tr style=\"text-align: right;\">\n",
       "      <th></th>\n",
       "      <th>index</th>\n",
       "      <th>age</th>\n",
       "      <th>sex</th>\n",
       "      <th>bmi</th>\n",
       "      <th>children</th>\n",
       "      <th>smoker</th>\n",
       "      <th>region</th>\n",
       "      <th>charges</th>\n",
       "    </tr>\n",
       "  </thead>\n",
       "  <tbody>\n",
       "    <tr>\n",
       "      <th>0</th>\n",
       "      <td>14</td>\n",
       "      <td>27</td>\n",
       "      <td>male</td>\n",
       "      <td>42.130001</td>\n",
       "      <td>0.0</td>\n",
       "      <td>yes</td>\n",
       "      <td>southeast</td>\n",
       "      <td>39611.757812</td>\n",
       "    </tr>\n",
       "    <tr>\n",
       "      <th>1</th>\n",
       "      <td>19</td>\n",
       "      <td>30</td>\n",
       "      <td>male</td>\n",
       "      <td>35.299999</td>\n",
       "      <td>0.0</td>\n",
       "      <td>yes</td>\n",
       "      <td>southwest</td>\n",
       "      <td>36837.468750</td>\n",
       "    </tr>\n",
       "    <tr>\n",
       "      <th>2</th>\n",
       "      <td>29</td>\n",
       "      <td>31</td>\n",
       "      <td>male</td>\n",
       "      <td>36.299999</td>\n",
       "      <td>2.0</td>\n",
       "      <td>yes</td>\n",
       "      <td>southwest</td>\n",
       "      <td>38711.000000</td>\n",
       "    </tr>\n",
       "    <tr>\n",
       "      <th>3</th>\n",
       "      <td>30</td>\n",
       "      <td>22</td>\n",
       "      <td>male</td>\n",
       "      <td>35.599998</td>\n",
       "      <td>0.0</td>\n",
       "      <td>yes</td>\n",
       "      <td>southwest</td>\n",
       "      <td>35585.574219</td>\n",
       "    </tr>\n",
       "    <tr>\n",
       "      <th>4</th>\n",
       "      <td>34</td>\n",
       "      <td>28</td>\n",
       "      <td>male</td>\n",
       "      <td>36.400002</td>\n",
       "      <td>1.0</td>\n",
       "      <td>yes</td>\n",
       "      <td>southwest</td>\n",
       "      <td>51194.558594</td>\n",
       "    </tr>\n",
       "    <tr>\n",
       "      <th>...</th>\n",
       "      <td>...</td>\n",
       "      <td>...</td>\n",
       "      <td>...</td>\n",
       "      <td>...</td>\n",
       "      <td>...</td>\n",
       "      <td>...</td>\n",
       "      <td>...</td>\n",
       "      <td>...</td>\n",
       "    </tr>\n",
       "    <tr>\n",
       "      <th>154</th>\n",
       "      <td>1301</td>\n",
       "      <td>62</td>\n",
       "      <td>male</td>\n",
       "      <td>30.875000</td>\n",
       "      <td>3.0</td>\n",
       "      <td>yes</td>\n",
       "      <td>northwest</td>\n",
       "      <td>46718.164062</td>\n",
       "    </tr>\n",
       "    <tr>\n",
       "      <th>155</th>\n",
       "      <td>1303</td>\n",
       "      <td>43</td>\n",
       "      <td>male</td>\n",
       "      <td>27.799999</td>\n",
       "      <td>0.0</td>\n",
       "      <td>yes</td>\n",
       "      <td>southwest</td>\n",
       "      <td>37829.722656</td>\n",
       "    </tr>\n",
       "    <tr>\n",
       "      <th>156</th>\n",
       "      <td>1304</td>\n",
       "      <td>42</td>\n",
       "      <td>male</td>\n",
       "      <td>24.605000</td>\n",
       "      <td>2.0</td>\n",
       "      <td>yes</td>\n",
       "      <td>northeast</td>\n",
       "      <td>21259.378906</td>\n",
       "    </tr>\n",
       "    <tr>\n",
       "      <th>157</th>\n",
       "      <td>1307</td>\n",
       "      <td>32</td>\n",
       "      <td>male</td>\n",
       "      <td>28.120001</td>\n",
       "      <td>4.0</td>\n",
       "      <td>yes</td>\n",
       "      <td>northwest</td>\n",
       "      <td>21472.478516</td>\n",
       "    </tr>\n",
       "    <tr>\n",
       "      <th>158</th>\n",
       "      <td>1321</td>\n",
       "      <td>62</td>\n",
       "      <td>male</td>\n",
       "      <td>26.695000</td>\n",
       "      <td>0.0</td>\n",
       "      <td>yes</td>\n",
       "      <td>northeast</td>\n",
       "      <td>28101.333984</td>\n",
       "    </tr>\n",
       "  </tbody>\n",
       "</table>\n",
       "<p>159 rows × 8 columns</p>\n",
       "</div>"
      ],
      "text/plain": [
       "     index  age   sex        bmi  children smoker     region       charges\n",
       "0       14   27  male  42.130001       0.0    yes  southeast  39611.757812\n",
       "1       19   30  male  35.299999       0.0    yes  southwest  36837.468750\n",
       "2       29   31  male  36.299999       2.0    yes  southwest  38711.000000\n",
       "3       30   22  male  35.599998       0.0    yes  southwest  35585.574219\n",
       "4       34   28  male  36.400002       1.0    yes  southwest  51194.558594\n",
       "..     ...  ...   ...        ...       ...    ...        ...           ...\n",
       "154   1301   62  male  30.875000       3.0    yes  northwest  46718.164062\n",
       "155   1303   43  male  27.799999       0.0    yes  southwest  37829.722656\n",
       "156   1304   42  male  24.605000       2.0    yes  northeast  21259.378906\n",
       "157   1307   32  male  28.120001       4.0    yes  northwest  21472.478516\n",
       "158   1321   62  male  26.695000       0.0    yes  northeast  28101.333984\n",
       "\n",
       "[159 rows x 8 columns]"
      ]
     },
     "execution_count": 142,
     "metadata": {},
     "output_type": "execute_result"
    }
   ],
   "source": [
    "smoker_male"
   ]
  },
  {
   "cell_type": "code",
   "execution_count": 143,
   "id": "cc60a609",
   "metadata": {},
   "outputs": [
    {
     "data": {
      "text/html": [
       "<div>\n",
       "<style scoped>\n",
       "    .dataframe tbody tr th:only-of-type {\n",
       "        vertical-align: middle;\n",
       "    }\n",
       "\n",
       "    .dataframe tbody tr th {\n",
       "        vertical-align: top;\n",
       "    }\n",
       "\n",
       "    .dataframe thead th {\n",
       "        text-align: right;\n",
       "    }\n",
       "</style>\n",
       "<table border=\"1\" class=\"dataframe\">\n",
       "  <thead>\n",
       "    <tr style=\"text-align: right;\">\n",
       "      <th></th>\n",
       "      <th>index</th>\n",
       "      <th>age</th>\n",
       "      <th>sex</th>\n",
       "      <th>bmi</th>\n",
       "      <th>children</th>\n",
       "      <th>smoker</th>\n",
       "      <th>region</th>\n",
       "      <th>charges</th>\n",
       "    </tr>\n",
       "  </thead>\n",
       "  <tbody>\n",
       "    <tr>\n",
       "      <th>0</th>\n",
       "      <td>1</td>\n",
       "      <td>18</td>\n",
       "      <td>male</td>\n",
       "      <td>33.770000</td>\n",
       "      <td>1.0</td>\n",
       "      <td>no</td>\n",
       "      <td>southeast</td>\n",
       "      <td>1725.552246</td>\n",
       "    </tr>\n",
       "    <tr>\n",
       "      <th>1</th>\n",
       "      <td>2</td>\n",
       "      <td>28</td>\n",
       "      <td>male</td>\n",
       "      <td>33.000000</td>\n",
       "      <td>3.0</td>\n",
       "      <td>no</td>\n",
       "      <td>southeast</td>\n",
       "      <td>4449.461914</td>\n",
       "    </tr>\n",
       "    <tr>\n",
       "      <th>2</th>\n",
       "      <td>3</td>\n",
       "      <td>33</td>\n",
       "      <td>male</td>\n",
       "      <td>22.705000</td>\n",
       "      <td>0.0</td>\n",
       "      <td>no</td>\n",
       "      <td>northwest</td>\n",
       "      <td>21984.470703</td>\n",
       "    </tr>\n",
       "    <tr>\n",
       "      <th>3</th>\n",
       "      <td>4</td>\n",
       "      <td>32</td>\n",
       "      <td>male</td>\n",
       "      <td>28.879999</td>\n",
       "      <td>0.0</td>\n",
       "      <td>no</td>\n",
       "      <td>northwest</td>\n",
       "      <td>3866.855225</td>\n",
       "    </tr>\n",
       "    <tr>\n",
       "      <th>4</th>\n",
       "      <td>8</td>\n",
       "      <td>37</td>\n",
       "      <td>male</td>\n",
       "      <td>29.830000</td>\n",
       "      <td>2.0</td>\n",
       "      <td>no</td>\n",
       "      <td>northeast</td>\n",
       "      <td>6406.410645</td>\n",
       "    </tr>\n",
       "    <tr>\n",
       "      <th>...</th>\n",
       "      <td>...</td>\n",
       "      <td>...</td>\n",
       "      <td>...</td>\n",
       "      <td>...</td>\n",
       "      <td>...</td>\n",
       "      <td>...</td>\n",
       "      <td>...</td>\n",
       "      <td>...</td>\n",
       "    </tr>\n",
       "    <tr>\n",
       "      <th>511</th>\n",
       "      <td>1324</td>\n",
       "      <td>31</td>\n",
       "      <td>male</td>\n",
       "      <td>25.934999</td>\n",
       "      <td>1.0</td>\n",
       "      <td>no</td>\n",
       "      <td>northwest</td>\n",
       "      <td>4239.892578</td>\n",
       "    </tr>\n",
       "    <tr>\n",
       "      <th>512</th>\n",
       "      <td>1325</td>\n",
       "      <td>61</td>\n",
       "      <td>male</td>\n",
       "      <td>33.535000</td>\n",
       "      <td>0.0</td>\n",
       "      <td>no</td>\n",
       "      <td>northeast</td>\n",
       "      <td>13143.336914</td>\n",
       "    </tr>\n",
       "    <tr>\n",
       "      <th>513</th>\n",
       "      <td>1327</td>\n",
       "      <td>51</td>\n",
       "      <td>male</td>\n",
       "      <td>30.030001</td>\n",
       "      <td>1.0</td>\n",
       "      <td>no</td>\n",
       "      <td>southeast</td>\n",
       "      <td>9377.904297</td>\n",
       "    </tr>\n",
       "    <tr>\n",
       "      <th>514</th>\n",
       "      <td>1329</td>\n",
       "      <td>52</td>\n",
       "      <td>male</td>\n",
       "      <td>38.599998</td>\n",
       "      <td>2.0</td>\n",
       "      <td>no</td>\n",
       "      <td>southwest</td>\n",
       "      <td>10325.206055</td>\n",
       "    </tr>\n",
       "    <tr>\n",
       "      <th>515</th>\n",
       "      <td>1333</td>\n",
       "      <td>50</td>\n",
       "      <td>male</td>\n",
       "      <td>30.969999</td>\n",
       "      <td>3.0</td>\n",
       "      <td>no</td>\n",
       "      <td>northwest</td>\n",
       "      <td>10600.547852</td>\n",
       "    </tr>\n",
       "  </tbody>\n",
       "</table>\n",
       "<p>516 rows × 8 columns</p>\n",
       "</div>"
      ],
      "text/plain": [
       "     index  age   sex        bmi  children smoker     region       charges\n",
       "0        1   18  male  33.770000       1.0     no  southeast   1725.552246\n",
       "1        2   28  male  33.000000       3.0     no  southeast   4449.461914\n",
       "2        3   33  male  22.705000       0.0     no  northwest  21984.470703\n",
       "3        4   32  male  28.879999       0.0     no  northwest   3866.855225\n",
       "4        8   37  male  29.830000       2.0     no  northeast   6406.410645\n",
       "..     ...  ...   ...        ...       ...    ...        ...           ...\n",
       "511   1324   31  male  25.934999       1.0     no  northwest   4239.892578\n",
       "512   1325   61  male  33.535000       0.0     no  northeast  13143.336914\n",
       "513   1327   51  male  30.030001       1.0     no  southeast   9377.904297\n",
       "514   1329   52  male  38.599998       2.0     no  southwest  10325.206055\n",
       "515   1333   50  male  30.969999       3.0     no  northwest  10600.547852\n",
       "\n",
       "[516 rows x 8 columns]"
      ]
     },
     "execution_count": 143,
     "metadata": {},
     "output_type": "execute_result"
    }
   ],
   "source": [
    "no_smoker_male"
   ]
  },
  {
   "cell_type": "code",
   "execution_count": 144,
   "id": "72e510f3",
   "metadata": {},
   "outputs": [
    {
     "data": {
      "text/html": [
       "<div>\n",
       "<style scoped>\n",
       "    .dataframe tbody tr th:only-of-type {\n",
       "        vertical-align: middle;\n",
       "    }\n",
       "\n",
       "    .dataframe tbody tr th {\n",
       "        vertical-align: top;\n",
       "    }\n",
       "\n",
       "    .dataframe thead th {\n",
       "        text-align: right;\n",
       "    }\n",
       "</style>\n",
       "<table border=\"1\" class=\"dataframe\">\n",
       "  <thead>\n",
       "    <tr style=\"text-align: right;\">\n",
       "      <th></th>\n",
       "      <th>index</th>\n",
       "      <th>age</th>\n",
       "      <th>sex</th>\n",
       "      <th>bmi</th>\n",
       "      <th>children</th>\n",
       "      <th>smoker</th>\n",
       "      <th>region</th>\n",
       "      <th>charges</th>\n",
       "    </tr>\n",
       "  </thead>\n",
       "  <tbody>\n",
       "    <tr>\n",
       "      <th>0</th>\n",
       "      <td>0</td>\n",
       "      <td>19</td>\n",
       "      <td>female</td>\n",
       "      <td>27.900000</td>\n",
       "      <td>0.0</td>\n",
       "      <td>yes</td>\n",
       "      <td>southwest</td>\n",
       "      <td>16884.923828</td>\n",
       "    </tr>\n",
       "    <tr>\n",
       "      <th>1</th>\n",
       "      <td>11</td>\n",
       "      <td>62</td>\n",
       "      <td>female</td>\n",
       "      <td>26.290001</td>\n",
       "      <td>0.0</td>\n",
       "      <td>yes</td>\n",
       "      <td>southeast</td>\n",
       "      <td>27808.724609</td>\n",
       "    </tr>\n",
       "    <tr>\n",
       "      <th>2</th>\n",
       "      <td>23</td>\n",
       "      <td>34</td>\n",
       "      <td>female</td>\n",
       "      <td>31.920000</td>\n",
       "      <td>1.0</td>\n",
       "      <td>yes</td>\n",
       "      <td>northeast</td>\n",
       "      <td>37701.875000</td>\n",
       "    </tr>\n",
       "    <tr>\n",
       "      <th>3</th>\n",
       "      <td>58</td>\n",
       "      <td>53</td>\n",
       "      <td>female</td>\n",
       "      <td>22.879999</td>\n",
       "      <td>1.0</td>\n",
       "      <td>yes</td>\n",
       "      <td>southeast</td>\n",
       "      <td>23244.791016</td>\n",
       "    </tr>\n",
       "    <tr>\n",
       "      <th>4</th>\n",
       "      <td>64</td>\n",
       "      <td>20</td>\n",
       "      <td>female</td>\n",
       "      <td>22.420000</td>\n",
       "      <td>0.0</td>\n",
       "      <td>yes</td>\n",
       "      <td>northwest</td>\n",
       "      <td>14711.744141</td>\n",
       "    </tr>\n",
       "    <tr>\n",
       "      <th>...</th>\n",
       "      <td>...</td>\n",
       "      <td>...</td>\n",
       "      <td>...</td>\n",
       "      <td>...</td>\n",
       "      <td>...</td>\n",
       "      <td>...</td>\n",
       "      <td>...</td>\n",
       "      <td>...</td>\n",
       "    </tr>\n",
       "    <tr>\n",
       "      <th>110</th>\n",
       "      <td>1308</td>\n",
       "      <td>25</td>\n",
       "      <td>female</td>\n",
       "      <td>30.200001</td>\n",
       "      <td>0.0</td>\n",
       "      <td>yes</td>\n",
       "      <td>southwest</td>\n",
       "      <td>33900.652344</td>\n",
       "    </tr>\n",
       "    <tr>\n",
       "      <th>111</th>\n",
       "      <td>1313</td>\n",
       "      <td>19</td>\n",
       "      <td>female</td>\n",
       "      <td>34.700001</td>\n",
       "      <td>2.0</td>\n",
       "      <td>yes</td>\n",
       "      <td>southwest</td>\n",
       "      <td>36397.574219</td>\n",
       "    </tr>\n",
       "    <tr>\n",
       "      <th>112</th>\n",
       "      <td>1314</td>\n",
       "      <td>30</td>\n",
       "      <td>female</td>\n",
       "      <td>23.655001</td>\n",
       "      <td>3.0</td>\n",
       "      <td>yes</td>\n",
       "      <td>northwest</td>\n",
       "      <td>18765.875000</td>\n",
       "    </tr>\n",
       "    <tr>\n",
       "      <th>113</th>\n",
       "      <td>1323</td>\n",
       "      <td>42</td>\n",
       "      <td>female</td>\n",
       "      <td>40.369999</td>\n",
       "      <td>2.0</td>\n",
       "      <td>yes</td>\n",
       "      <td>southeast</td>\n",
       "      <td>43896.375000</td>\n",
       "    </tr>\n",
       "    <tr>\n",
       "      <th>114</th>\n",
       "      <td>1337</td>\n",
       "      <td>61</td>\n",
       "      <td>female</td>\n",
       "      <td>29.070000</td>\n",
       "      <td>0.0</td>\n",
       "      <td>yes</td>\n",
       "      <td>northwest</td>\n",
       "      <td>29141.359375</td>\n",
       "    </tr>\n",
       "  </tbody>\n",
       "</table>\n",
       "<p>115 rows × 8 columns</p>\n",
       "</div>"
      ],
      "text/plain": [
       "     index  age     sex        bmi  children smoker     region       charges\n",
       "0        0   19  female  27.900000       0.0    yes  southwest  16884.923828\n",
       "1       11   62  female  26.290001       0.0    yes  southeast  27808.724609\n",
       "2       23   34  female  31.920000       1.0    yes  northeast  37701.875000\n",
       "3       58   53  female  22.879999       1.0    yes  southeast  23244.791016\n",
       "4       64   20  female  22.420000       0.0    yes  northwest  14711.744141\n",
       "..     ...  ...     ...        ...       ...    ...        ...           ...\n",
       "110   1308   25  female  30.200001       0.0    yes  southwest  33900.652344\n",
       "111   1313   19  female  34.700001       2.0    yes  southwest  36397.574219\n",
       "112   1314   30  female  23.655001       3.0    yes  northwest  18765.875000\n",
       "113   1323   42  female  40.369999       2.0    yes  southeast  43896.375000\n",
       "114   1337   61  female  29.070000       0.0    yes  northwest  29141.359375\n",
       "\n",
       "[115 rows x 8 columns]"
      ]
     },
     "execution_count": 144,
     "metadata": {},
     "output_type": "execute_result"
    }
   ],
   "source": [
    "smoker_female"
   ]
  },
  {
   "cell_type": "code",
   "execution_count": 145,
   "id": "c2deac95",
   "metadata": {},
   "outputs": [
    {
     "data": {
      "text/html": [
       "<div>\n",
       "<style scoped>\n",
       "    .dataframe tbody tr th:only-of-type {\n",
       "        vertical-align: middle;\n",
       "    }\n",
       "\n",
       "    .dataframe tbody tr th {\n",
       "        vertical-align: top;\n",
       "    }\n",
       "\n",
       "    .dataframe thead th {\n",
       "        text-align: right;\n",
       "    }\n",
       "</style>\n",
       "<table border=\"1\" class=\"dataframe\">\n",
       "  <thead>\n",
       "    <tr style=\"text-align: right;\">\n",
       "      <th></th>\n",
       "      <th>index</th>\n",
       "      <th>age</th>\n",
       "      <th>sex</th>\n",
       "      <th>bmi</th>\n",
       "      <th>children</th>\n",
       "      <th>smoker</th>\n",
       "      <th>region</th>\n",
       "      <th>charges</th>\n",
       "    </tr>\n",
       "  </thead>\n",
       "  <tbody>\n",
       "    <tr>\n",
       "      <th>0</th>\n",
       "      <td>5</td>\n",
       "      <td>31</td>\n",
       "      <td>female</td>\n",
       "      <td>25.740000</td>\n",
       "      <td>0.0</td>\n",
       "      <td>no</td>\n",
       "      <td>southeast</td>\n",
       "      <td>3756.621582</td>\n",
       "    </tr>\n",
       "    <tr>\n",
       "      <th>1</th>\n",
       "      <td>6</td>\n",
       "      <td>46</td>\n",
       "      <td>female</td>\n",
       "      <td>33.439999</td>\n",
       "      <td>1.0</td>\n",
       "      <td>no</td>\n",
       "      <td>southeast</td>\n",
       "      <td>8240.589844</td>\n",
       "    </tr>\n",
       "    <tr>\n",
       "      <th>2</th>\n",
       "      <td>7</td>\n",
       "      <td>37</td>\n",
       "      <td>female</td>\n",
       "      <td>27.740000</td>\n",
       "      <td>3.0</td>\n",
       "      <td>no</td>\n",
       "      <td>northwest</td>\n",
       "      <td>7281.505371</td>\n",
       "    </tr>\n",
       "    <tr>\n",
       "      <th>3</th>\n",
       "      <td>9</td>\n",
       "      <td>60</td>\n",
       "      <td>female</td>\n",
       "      <td>25.840000</td>\n",
       "      <td>0.0</td>\n",
       "      <td>no</td>\n",
       "      <td>northwest</td>\n",
       "      <td>28923.136719</td>\n",
       "    </tr>\n",
       "    <tr>\n",
       "      <th>4</th>\n",
       "      <td>13</td>\n",
       "      <td>56</td>\n",
       "      <td>female</td>\n",
       "      <td>39.820000</td>\n",
       "      <td>0.0</td>\n",
       "      <td>no</td>\n",
       "      <td>southeast</td>\n",
       "      <td>11090.717773</td>\n",
       "    </tr>\n",
       "    <tr>\n",
       "      <th>...</th>\n",
       "      <td>...</td>\n",
       "      <td>...</td>\n",
       "      <td>...</td>\n",
       "      <td>...</td>\n",
       "      <td>...</td>\n",
       "      <td>...</td>\n",
       "      <td>...</td>\n",
       "      <td>...</td>\n",
       "    </tr>\n",
       "    <tr>\n",
       "      <th>542</th>\n",
       "      <td>1331</td>\n",
       "      <td>23</td>\n",
       "      <td>female</td>\n",
       "      <td>33.400002</td>\n",
       "      <td>0.0</td>\n",
       "      <td>no</td>\n",
       "      <td>southwest</td>\n",
       "      <td>10795.937500</td>\n",
       "    </tr>\n",
       "    <tr>\n",
       "      <th>543</th>\n",
       "      <td>1332</td>\n",
       "      <td>52</td>\n",
       "      <td>female</td>\n",
       "      <td>44.700001</td>\n",
       "      <td>3.0</td>\n",
       "      <td>no</td>\n",
       "      <td>southwest</td>\n",
       "      <td>11411.684570</td>\n",
       "    </tr>\n",
       "    <tr>\n",
       "      <th>544</th>\n",
       "      <td>1334</td>\n",
       "      <td>18</td>\n",
       "      <td>female</td>\n",
       "      <td>31.920000</td>\n",
       "      <td>0.0</td>\n",
       "      <td>no</td>\n",
       "      <td>northeast</td>\n",
       "      <td>2205.980713</td>\n",
       "    </tr>\n",
       "    <tr>\n",
       "      <th>545</th>\n",
       "      <td>1335</td>\n",
       "      <td>18</td>\n",
       "      <td>female</td>\n",
       "      <td>36.849998</td>\n",
       "      <td>0.0</td>\n",
       "      <td>no</td>\n",
       "      <td>southeast</td>\n",
       "      <td>1629.833496</td>\n",
       "    </tr>\n",
       "    <tr>\n",
       "      <th>546</th>\n",
       "      <td>1336</td>\n",
       "      <td>21</td>\n",
       "      <td>female</td>\n",
       "      <td>25.799999</td>\n",
       "      <td>0.0</td>\n",
       "      <td>no</td>\n",
       "      <td>southwest</td>\n",
       "      <td>2007.944946</td>\n",
       "    </tr>\n",
       "  </tbody>\n",
       "</table>\n",
       "<p>547 rows × 8 columns</p>\n",
       "</div>"
      ],
      "text/plain": [
       "     index  age     sex        bmi  children smoker     region       charges\n",
       "0        5   31  female  25.740000       0.0     no  southeast   3756.621582\n",
       "1        6   46  female  33.439999       1.0     no  southeast   8240.589844\n",
       "2        7   37  female  27.740000       3.0     no  northwest   7281.505371\n",
       "3        9   60  female  25.840000       0.0     no  northwest  28923.136719\n",
       "4       13   56  female  39.820000       0.0     no  southeast  11090.717773\n",
       "..     ...  ...     ...        ...       ...    ...        ...           ...\n",
       "542   1331   23  female  33.400002       0.0     no  southwest  10795.937500\n",
       "543   1332   52  female  44.700001       3.0     no  southwest  11411.684570\n",
       "544   1334   18  female  31.920000       0.0     no  northeast   2205.980713\n",
       "545   1335   18  female  36.849998       0.0     no  southeast   1629.833496\n",
       "546   1336   21  female  25.799999       0.0     no  southwest   2007.944946\n",
       "\n",
       "[547 rows x 8 columns]"
      ]
     },
     "execution_count": 145,
     "metadata": {},
     "output_type": "execute_result"
    }
   ],
   "source": [
    "no_smoker_female"
   ]
  },
  {
   "cell_type": "markdown",
   "id": "79132f19",
   "metadata": {},
   "source": [
    "- Interactive Dashboard.\n",
    "\n",
    "We create an interactive dashboard for each table in order to understand the relationship between the dataset variables."
   ]
  },
  {
   "cell_type": "code",
   "execution_count": 146,
   "id": "ae2b1428",
   "metadata": {},
   "outputs": [
    {
     "data": {
      "application/vnd.jupyter.widget-view+json": {
       "model_id": "097de2c729da43518d87ef7e3d50ab64",
       "version_major": 2,
       "version_minor": 0
      },
      "text/plain": [
       "interactive(children=(Dropdown(description='variable', options=('age', 'sex', 'children', 'smoker', 'region'),…"
      ]
     },
     "metadata": {},
     "output_type": "display_data"
    }
   ],
   "source": [
    "#Creation of the interactive dashboard for the entire database\n",
    "from ipywidgets import interact\n",
    "@interact\n",
    "def create_plot(variable = db.drop(['charges','bmi'], axis =1).columns):\n",
    "    sns.set( rc = {'figure.figsize' : ( 12, 8 ), \n",
    "               'axes.labelsize' : 14 })\n",
    "    chart=sns.barplot(data = db, x = variable, y ='charges')\n",
    "    chart.set_title(f'Mean Bar Plot of the medical costs grouped by the {variable}',fontsize=14)"
   ]
  },
  {
   "cell_type": "code",
   "execution_count": 147,
   "id": "460823d5",
   "metadata": {},
   "outputs": [
    {
     "data": {
      "application/vnd.jupyter.widget-view+json": {
       "model_id": "0fa1269121994f3e9414b3c931126a3c",
       "version_major": 2,
       "version_minor": 0
      },
      "text/plain": [
       "interactive(children=(Dropdown(description='variable', options=('age', 'children', 'region'), value='age'), Ou…"
      ]
     },
     "metadata": {},
     "output_type": "display_data"
    }
   ],
   "source": [
    "#Creation of the interactive dashboard for the 'smoker_male' table\n",
    "from ipywidgets import interact\n",
    "@interact\n",
    "def create_plot(variable = smoker_male.drop(['charges', 'bmi','index','smoker','sex'], axis =1).columns):\n",
    "    sns.set( rc = {'figure.figsize' : ( 12, 8 ), \n",
    "               'axes.labelsize' : 14 })\n",
    "    chart=sns.barplot(data = smoker_male, x = variable, y ='charges')\n",
    "    chart.set_title(f'Mean Bar Plot of the medical costs grouped by the {variable}',fontsize=14)"
   ]
  },
  {
   "cell_type": "code",
   "execution_count": 148,
   "id": "54117ce6",
   "metadata": {},
   "outputs": [
    {
     "data": {
      "application/vnd.jupyter.widget-view+json": {
       "model_id": "ab5e083b09f6463aa9bf42d14ce41071",
       "version_major": 2,
       "version_minor": 0
      },
      "text/plain": [
       "interactive(children=(Dropdown(description='variable', options=('age', 'children', 'region'), value='age'), Ou…"
      ]
     },
     "metadata": {},
     "output_type": "display_data"
    }
   ],
   "source": [
    "#Creation of the interactive dashboard for the 'no_smoker_male' table\n",
    "from ipywidgets import interact\n",
    "@interact\n",
    "def create_plot(variable = no_smoker_male.drop(['charges', 'bmi','index','smoker','sex'], axis =1).columns):\n",
    "    sns.set( rc = {'figure.figsize' : ( 12, 8 ), \n",
    "               'axes.labelsize' : 14 })\n",
    "    chart=sns.barplot(data = no_smoker_male, x = variable, y ='charges')\n",
    "    chart.set_title(f'Mean Bar Plot of the medical costs grouped by the {variable}',fontsize=14)"
   ]
  },
  {
   "cell_type": "code",
   "execution_count": 149,
   "id": "da142176",
   "metadata": {},
   "outputs": [
    {
     "data": {
      "application/vnd.jupyter.widget-view+json": {
       "model_id": "a12a7e5abb1f4d8eb93ba072e4288987",
       "version_major": 2,
       "version_minor": 0
      },
      "text/plain": [
       "interactive(children=(Dropdown(description='variable', options=('age', 'children', 'region'), value='age'), Ou…"
      ]
     },
     "metadata": {},
     "output_type": "display_data"
    }
   ],
   "source": [
    "#Creation of the interactive dashboard for the 'smoker_female' table\n",
    "from ipywidgets import interact\n",
    "@interact\n",
    "def create_plot(variable = smoker_female.drop(['charges', 'bmi','index','smoker','sex'], axis =1).columns):\n",
    "    sns.set( rc = {'figure.figsize' : ( 12, 8 ), \n",
    "               'axes.labelsize' : 14 })\n",
    "    chart=sns.barplot(data = smoker_female, x = variable, y ='charges')\n",
    "    chart.set_title(f'Mean Bar Plot of the medical costs grouped by the {variable}',fontsize=14)"
   ]
  },
  {
   "cell_type": "code",
   "execution_count": 150,
   "id": "fa85c2d0",
   "metadata": {},
   "outputs": [
    {
     "data": {
      "application/vnd.jupyter.widget-view+json": {
       "model_id": "5c3576acd0ee4d6bbb555a75bf624c99",
       "version_major": 2,
       "version_minor": 0
      },
      "text/plain": [
       "interactive(children=(Dropdown(description='variable', options=('age', 'children', 'region'), value='age'), Ou…"
      ]
     },
     "metadata": {},
     "output_type": "display_data"
    }
   ],
   "source": [
    "#Creation of the interactive dashboard for the 'smoker_female' table\n",
    "from ipywidgets import interact\n",
    "@interact\n",
    "def create_plot(variable = no_smoker_female.drop(['charges', 'bmi','index','smoker','sex'], axis =1).columns):\n",
    "    sns.set( rc = {'figure.figsize' : ( 12, 8 ), \n",
    "               'axes.labelsize' : 14 })\n",
    "    chart=sns.barplot(data = no_smoker_female, x = variable, y ='charges')\n",
    "    chart.set_title(f'Mean Bar Plot of the medical costs grouped by the {variable}',fontsize=14)"
   ]
  },
  {
   "cell_type": "markdown",
   "id": "bdf926c4",
   "metadata": {},
   "source": [
    "We create a method called *create_scatter()* with two parameters that will be called for different variables from the database generating a scatter plot."
   ]
  },
  {
   "cell_type": "code",
   "execution_count": 151,
   "id": "fdb41d20",
   "metadata": {},
   "outputs": [],
   "source": [
    "#Creation of the interactive dashboard (a scatter plot) for the db table\n",
    "db_scatter= db[['bmi', 'age', 'charges']]\n",
    "def create_scatter(variable1, variable2):\n",
    "    with plt.style.context(\"ggplot\"):\n",
    "        fig = plt.figure(figsize=(8,4))\n",
    "\n",
    "        plt.scatter(x =db_scatter[variable1],\n",
    "                    y =db_scatter[variable2],\n",
    "                    s=5\n",
    "                   )\n",
    "        plt.xticks(fontsize=15)\n",
    "        plt.yticks(fontsize=15)\n",
    "        plt.xlabel(variable1.capitalize())\n",
    "        plt.ylabel(variable2.capitalize())\n",
    "\n",
    "        plt.title(\"%s vs %s\"%(variable1.capitalize(), variable2.capitalize()))\n"
   ]
  },
  {
   "cell_type": "code",
   "execution_count": 152,
   "id": "4d74610f",
   "metadata": {},
   "outputs": [
    {
     "data": {
      "application/vnd.jupyter.widget-view+json": {
       "model_id": "75babb4735fa467a8c6a5d402be1c6c5",
       "version_major": 2,
       "version_minor": 0
      },
      "text/plain": [
       "interactive(children=(Dropdown(description='variable1', options=('bmi', 'age', 'charges'), value='bmi'), Dropd…"
      ]
     },
     "metadata": {},
     "output_type": "display_data"
    },
    {
     "data": {
      "text/plain": [
       "<function __main__.create_scatter(variable1, variable2)>"
      ]
     },
     "execution_count": 152,
     "metadata": {},
     "output_type": "execute_result"
    }
   ],
   "source": [
    "interact(create_scatter, variable1=db_scatter.columns, variable2=db_scatter.columns)\n"
   ]
  },
  {
   "cell_type": "markdown",
   "id": "60ca97d1",
   "metadata": {},
   "source": [
    "Normal distribution of variables."
   ]
  },
  {
   "cell_type": "code",
   "execution_count": 153,
   "id": "c3a1619e",
   "metadata": {},
   "outputs": [],
   "source": [
    "db_new= db[['bmi','charges']]\n",
    "import warnings\n",
    "warnings.filterwarnings('ignore')\n",
    "def create_distribution(variable):\n",
    "    with plt.style.context(\"ggplot\"):\n",
    "        fig = plt.figure(figsize=(8,4))\n",
    "        sns.distplot(db_new[variable],kde=True)\n",
    "        plt.title('Normal distribution of  %s'%(variable.capitalize()))\n",
    "        "
   ]
  },
  {
   "cell_type": "code",
   "execution_count": 154,
   "id": "80edacfd",
   "metadata": {},
   "outputs": [
    {
     "data": {
      "application/vnd.jupyter.widget-view+json": {
       "model_id": "7ffea4fa30444a79bb0eb558a9a1d07c",
       "version_major": 2,
       "version_minor": 0
      },
      "text/plain": [
       "interactive(children=(Dropdown(description='variable', options=('bmi', 'charges'), value='bmi'), Output()), _d…"
      ]
     },
     "metadata": {},
     "output_type": "display_data"
    },
    {
     "data": {
      "text/plain": [
       "<function __main__.create_distribution(variable)>"
      ]
     },
     "execution_count": 154,
     "metadata": {},
     "output_type": "execute_result"
    }
   ],
   "source": [
    "interact(create_distribution, variable=db_new.columns)\n"
   ]
  },
  {
   "cell_type": "markdown",
   "id": "d0de46c4",
   "metadata": {},
   "source": [
    "Average medical expenses for 18-year-old smokers vs. nonsmokers."
   ]
  },
  {
   "cell_type": "code",
   "execution_count": 155,
   "id": "1e01ddc5",
   "metadata": {},
   "outputs": [],
   "source": [
    "def medical_expenses(gender):\n",
    "    with plt.style.context(\"ggplot\"):\n",
    "        fig = plt.figure(figsize=(10,4))\n",
    "        sns.boxplot(y=\"smoker\", x=\"charges\", data = db[(db.age==18)&(db.sex == gender)])\n",
    "        plt.title('Average medical expenses for 18-year-old %s smokers vs. nonsmokers'%gender)"
   ]
  },
  {
   "cell_type": "code",
   "execution_count": 156,
   "id": "b6ea519a",
   "metadata": {},
   "outputs": [
    {
     "data": {
      "application/vnd.jupyter.widget-view+json": {
       "model_id": "ad3f5a50218a4552bf7d4b9fec0d361e",
       "version_major": 2,
       "version_minor": 0
      },
      "text/plain": [
       "interactive(children=(Dropdown(description='gender', options=('male', 'female'), value='male'), Output()), _do…"
      ]
     },
     "metadata": {},
     "output_type": "display_data"
    },
    {
     "data": {
      "text/plain": [
       "<function __main__.medical_expenses(gender)>"
      ]
     },
     "execution_count": 156,
     "metadata": {},
     "output_type": "execute_result"
    }
   ],
   "source": [
    "interact(medical_expenses, gender=['male','female'])"
   ]
  },
  {
   "cell_type": "markdown",
   "id": "14f2a26f",
   "metadata": {},
   "source": [
    "Insurnce costs by region boxplot."
   ]
  },
  {
   "cell_type": "code",
   "execution_count": 157,
   "id": "219a7d56",
   "metadata": {},
   "outputs": [],
   "source": [
    "def medical_expenses(region):\n",
    "    with plt.style.context(\"ggplot\"):\n",
    "        fig = plt.figure(figsize=(8,4))\n",
    "        sns.boxplot(y=\"charges\", x=\"region\", data = db[db.region == region])\n",
    "        plt.title('Insurnce costs in the %s region'%region)"
   ]
  },
  {
   "cell_type": "code",
   "execution_count": 158,
   "id": "24d652cc",
   "metadata": {},
   "outputs": [
    {
     "data": {
      "application/vnd.jupyter.widget-view+json": {
       "model_id": "3dc1768770004103bf0cac534257d7a9",
       "version_major": 2,
       "version_minor": 0
      },
      "text/plain": [
       "interactive(children=(Dropdown(description='region', options=('southeast', 'northeast', 'southwest', 'northwes…"
      ]
     },
     "metadata": {},
     "output_type": "display_data"
    },
    {
     "data": {
      "text/plain": [
       "<function __main__.medical_expenses(region)>"
      ]
     },
     "execution_count": 158,
     "metadata": {},
     "output_type": "execute_result"
    }
   ],
   "source": [
    "interact(medical_expenses, region=['southeast', 'northeast','southwest','northwest'])"
   ]
  },
  {
   "cell_type": "code",
   "execution_count": null,
   "id": "730755e0",
   "metadata": {},
   "outputs": [],
   "source": []
  }
 ],
 "metadata": {
  "kernelspec": {
   "display_name": "Python 3",
   "language": "python",
   "name": "python3"
  },
  "language_info": {
   "codemirror_mode": {
    "name": "ipython",
    "version": 3
   },
   "file_extension": ".py",
   "mimetype": "text/x-python",
   "name": "python",
   "nbconvert_exporter": "python",
   "pygments_lexer": "ipython3",
   "version": "3.9.12"
  }
 },
 "nbformat": 4,
 "nbformat_minor": 5
}
